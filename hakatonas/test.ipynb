{
 "cells": [
  {
   "cell_type": "code",
   "execution_count": 127,
   "id": "913dc70a",
   "metadata": {},
   "outputs": [],
   "source": [
    "import pandas as pd\n",
    "import numpy as np\n",
    "from sklearn.cluster import DBSCAN"
   ]
  },
  {
   "cell_type": "code",
   "execution_count": 45,
   "id": "824955b4",
   "metadata": {},
   "outputs": [],
   "source": [
    "import json\n",
    "\n",
    "with open('export.geojson', 'r', encoding='utf-8') as f:\n",
    "    dataset = json.load(f)\n"
   ]
  },
  {
   "cell_type": "code",
   "execution_count": 162,
   "id": "689e86e9",
   "metadata": {},
   "outputs": [],
   "source": [
    "#good_keys = ['shop']\n",
    "good_keys = []\n",
    "\n",
    "# specific_rules = {\"leisure\" : [\"fitness_centre\", \"sport_centre\", \"stadium\"],\n",
    "#                   \"tourism\" : [\"museum\", \"gallery\", \"hotel\"],\n",
    "#                   \"shop\" : [\"supermarket\", \"mall\", \"hairdresser\"],\n",
    "#                   \"amenity\": [\n",
    "#                         \"cinema\", \"hospital\", \"clinic\", \"dentist\", \"university\", \"bank\", \"restaurant\",\n",
    "#                         \"fast_food\", \"cafe\", \"marketplace\", \"library\", \"theatre\", \"parking\"\n",
    "#                         ],\n",
    "#                   \"building\": [\"office\"],\n",
    "#                   \"aerodrome\": [\"international\"],\n",
    "#                   \"historic\": [\"manor\"]}\n",
    "\n",
    "\n",
    "specific_rules = {\"leisure\" : [\"fitness_centre\", \"sport_centre\", \"stadium\"],\n",
    "                  \"tourism\" : [\"museum\"],\n",
    "                  \"shop\" : [\"supermarket\", \"mall\"],\n",
    "                  \"amenity\": [\n",
    "                        \"cinema\", \"hospital\", \"university\",\n",
    "                        \"marketplace\", \"library\", \"theatre\", \"parking\"\n",
    "                        ],\n",
    "                  \"building\": [\"office\"],\n",
    "                  \"aerodrome\": [\"international\"],\n",
    "                  \"historic\": [\"manor\"]}"
   ]
  },
  {
   "cell_type": "code",
   "execution_count": null,
   "id": "1698cc9f",
   "metadata": {},
   "outputs": [],
   "source": [
    "relevant_objects = []\n",
    "for obj in dataset['features']:\n",
    "    if any([word in obj['properties'].keys() for word in good_keys]):\n",
    "        relevant_objects.append(obj)\n",
    "    else:\n",
    "        for key in specific_rules.keys():\n",
    "            if key in obj['properties'].keys() and any([obj['properties'][key] == value for value in specific_rules[key]]):\n",
    "               obj['extra'] = obj['properties'][key]\n",
    "               relevant_objects.append(obj)\n",
    "\n",
    "# with open('relevant_objects.jsonl', 'w', encoding = 'utf-8') as f:\n",
    "#     for line in relevant_objects:\n",
    "#         f.write(json.dumps({'name' : line['properties']['name'], 'lat' : line['geometry']['coordinates'][1], 'lon' : line['geometry']['coordinates'][0], 'extra' : line['extra']}, ensure_ascii=False) + '\\n')"
   ]
  },
  {
   "cell_type": "code",
   "execution_count": 187,
   "id": "fadeaa41",
   "metadata": {},
   "outputs": [],
   "source": [
    "from sklearn.cluster import DBSCAN\n",
    "import numpy as np\n",
    "import pandas as pd\n",
    "\n",
    "def merge_close_points(\n",
    "    df: pd.DataFrame,\n",
    "    lat_col: str = \"lat\",\n",
    "    lon_col: str = \"lon\",\n",
    "    name_col: str = \"name\",\n",
    "    extra_col: str = \"extra\",          # 👈 new\n",
    "    threshold_m: float = 300.0,\n",
    ") -> pd.DataFrame:\n",
    "    \"\"\"Cluster points within threshold_m and merge: name_1 + name_2, avg coords.\n",
    "       Adds 'count' and 'object_type' columns.\"\"\"\n",
    "    EARTH_RADIUS_M = 6_371_008.8\n",
    "\n",
    "    coords_rad = np.radians(df[[lat_col, lon_col]].to_numpy())\n",
    "    eps = threshold_m / EARTH_RADIUS_M\n",
    "\n",
    "    db = DBSCAN(eps=eps, min_samples=1, metric=\"haversine\")\n",
    "    labels = db.fit_predict(coords_rad)\n",
    "\n",
    "    tmp = df.copy()\n",
    "    tmp[\"_cluster\"] = labels\n",
    "\n",
    "    def concat_names(s: pd.Series) -> str:\n",
    "        seen, out = set(), []\n",
    "        for v in s.astype(str):\n",
    "            if v not in seen:\n",
    "                seen.add(v); out.append(v)\n",
    "        return \" + \".join(out)\n",
    "\n",
    "    merged = (\n",
    "        tmp.groupby(\"_cluster\", as_index=False)\n",
    "           .agg(\n",
    "               **{\n",
    "                   name_col: (name_col, concat_names),\n",
    "                   lat_col: (lat_col, \"mean\"),\n",
    "                   lon_col: (lon_col, \"mean\"),\n",
    "                   \"count\": (\"_cluster\", \"size\"),\n",
    "                   \"_extra_first\": (extra_col, \"first\"),\n",
    "               }\n",
    "           )\n",
    "           .drop(columns=[\"_cluster\"])\n",
    "    )\n",
    "\n",
    "    merged[\"object_type\"] = np.where(\n",
    "        merged[\"count\"] == 1, merged[\"_extra_first\"], \"merged\"\n",
    "    )\n",
    "    merged = merged.drop(columns=[\"_extra_first\"])\n",
    "    return merged\n",
    "\n"
   ]
  },
  {
   "cell_type": "code",
   "execution_count": 188,
   "id": "9f495e49",
   "metadata": {},
   "outputs": [],
   "source": [
    "df = pd.read_json('relevant_objects.jsonl', lines = True)"
   ]
  },
  {
   "cell_type": "code",
   "execution_count": 189,
   "id": "50031df2",
   "metadata": {},
   "outputs": [],
   "source": [
    "grouped_relevant_objects = merge_close_points(df, threshold_m=50).sort_values('count', ascending=False).reset_index(drop = True)"
   ]
  },
  {
   "cell_type": "code",
   "execution_count": 190,
   "id": "c0038e68",
   "metadata": {},
   "outputs": [],
   "source": [
    "grouped_relevant_objects.to_json('grouped_relevant_objects.jsonl', lines = True, orient = 'records', force_ascii=False)"
   ]
  }
 ],
 "metadata": {
  "kernelspec": {
   "display_name": "hakatonas",
   "language": "python",
   "name": "python3"
  },
  "language_info": {
   "codemirror_mode": {
    "name": "ipython",
    "version": 3
   },
   "file_extension": ".py",
   "mimetype": "text/x-python",
   "name": "python",
   "nbconvert_exporter": "python",
   "pygments_lexer": "ipython3",
   "version": "3.12.7"
  }
 },
 "nbformat": 4,
 "nbformat_minor": 5
}
